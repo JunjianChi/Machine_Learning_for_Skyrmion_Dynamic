{
 "cells": [
  {
   "cell_type": "code",
   "execution_count": 5,
   "id": "a8b2c976",
   "metadata": {},
   "outputs": [
    {
     "name": "stdout",
     "output_type": "stream",
     "text": [
      "新列 beta_alpha_ratio 已添加，并保存为 test_dataset_with_ratio.csv\n"
     ]
    }
   ],
   "source": [
    "import pandas as pd\n",
    "import numpy as np\n",
    "\n",
    "csv_path = \"../Data_Preprocessing/Preprocessed_Dataset/test_dataset.csv\"\n",
    "df = pd.read_csv(csv_path)\n",
    "\n",
    "# 添加 beta / alpha 列\n",
    "df.insert(len(df.columns) - 1, 'beta_alpha_ratio', df['beta'] / df['alpha'])\n",
    "\n",
    "# 可选：保存文件\n",
    "df.to_csv(\"../Data_Preprocessing/Preprocessed_Dataset/test_dataset_with_ratio.csv\", index=False)\n",
    "print(\"新列 beta_alpha_ratio 已添加，并保存为 test_dataset_with_ratio.csv\")"
   ]
  }
 ],
 "metadata": {
  "kernelspec": {
   "display_name": "Python_mocap",
   "language": "python",
   "name": "python3"
  },
  "language_info": {
   "codemirror_mode": {
    "name": "ipython",
    "version": 3
   },
   "file_extension": ".py",
   "mimetype": "text/x-python",
   "name": "python",
   "nbconvert_exporter": "python",
   "pygments_lexer": "ipython3",
   "version": "3.10.14"
  }
 },
 "nbformat": 4,
 "nbformat_minor": 5
}
