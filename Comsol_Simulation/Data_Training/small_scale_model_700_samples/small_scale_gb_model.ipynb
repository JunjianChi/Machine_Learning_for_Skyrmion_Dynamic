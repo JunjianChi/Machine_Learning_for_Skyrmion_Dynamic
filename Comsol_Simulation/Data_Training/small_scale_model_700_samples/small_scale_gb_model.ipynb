{
 "cells": [
  {
   "cell_type": "code",
   "execution_count": null,
   "id": "627d1f8d",
   "metadata": {},
   "outputs": [
    {
     "name": "stdout",
     "output_type": "stream",
     "text": [
      "Predict: success\n"
     ]
    }
   ],
   "source": [
    "import joblib\n",
    "import numpy as np\n",
    "\n",
    "# === 加载模型、Scaler、LabelEncoder ===\n",
    "model = joblib.load('gradient_boosting_model.pkl')\n",
    "scaler = joblib.load('scaler.pkl')\n",
    "le = joblib.load('label_encoder.pkl')\n",
    "\n",
    "# === 输入样本参数 ===\n",
    "jx = 9999e11\n",
    "alpha = 0.3\n",
    "beta = 0.3\n",
    "beta_alpha_ratio = beta / alpha\n",
    "\n",
    "# === 构造特征向量并标准化 ===\n",
    "X = np.array([[jx, alpha, beta, beta_alpha_ratio]])\n",
    "X_scaled = scaler.transform(X)\n",
    "\n",
    "# === 预测 ===\n",
    "y_pred = model.predict(X_scaled)\n",
    "label = le.inverse_transform(y_pred)[0]\n",
    "\n",
    "print(f\"Predict:{label}\")\n"
   ]
  }
 ],
 "metadata": {
  "kernelspec": {
   "display_name": "Python_mocap",
   "language": "python",
   "name": "python3"
  },
  "language_info": {
   "codemirror_mode": {
    "name": "ipython",
    "version": 3
   },
   "file_extension": ".py",
   "mimetype": "text/x-python",
   "name": "python",
   "nbconvert_exporter": "python",
   "pygments_lexer": "ipython3",
   "version": "3.10.14"
  }
 },
 "nbformat": 4,
 "nbformat_minor": 5
}
