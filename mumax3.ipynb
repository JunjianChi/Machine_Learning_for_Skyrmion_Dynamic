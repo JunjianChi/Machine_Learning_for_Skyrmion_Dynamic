{
  "nbformat": 4,
  "nbformat_minor": 0,
  "metadata": {
    "colab": {
      "name": "mumax3.ipynb",
      "provenance": [],
      "toc_visible": true,
      "include_colab_link": true
    },
    "kernelspec": {
      "name": "python3",
      "display_name": "Python 3"
    },
    "accelerator": "GPU"
  },
  "cells": [
    {
      "cell_type": "markdown",
      "metadata": {
        "id": "view-in-github",
        "colab_type": "text"
      },
      "source": [
        "<a href=\"https://colab.research.google.com/github/JunjianChi/Machine_Learning_for_Skyrmion_Dynamic/blob/main/mumax3.ipynb\" target=\"_parent\"><img src=\"https://colab.research.google.com/assets/colab-badge.svg\" alt=\"Open In Colab\"/></a>"
      ]
    },
    {
      "cell_type": "markdown",
      "metadata": {
        "id": "YKnOM0Rd_WpW"
      },
      "source": [
        "# **Mumax3 in google colaboratory**"
      ]
    },
    {
      "cell_type": "markdown",
      "metadata": {
        "id": "7z-jkukmWz2a"
      },
      "source": [
        "# About Google colaboratory"
      ]
    },
    {
      "cell_type": "markdown",
      "metadata": {
        "id": "y2SER9qhXpjG"
      },
      "source": [
        "Google colaboratory is a research tool mainly used by researchers in the field of machine learning. The main purpose of this tool is to run python code in jupyter notebooks. These notebooks run on a virtual linux machine private to your gmail account. This means that you will need a gmail account to execute programs in a google colaboratory session. If you have a gmail account you should be able to copy this jupyter notebook to your google drive and execute the code cells.\n",
        "\n",
        "To run mumax3 simulations, you do not need to write any python code. So you might wonder how we can use this jupyter notebook environment to run mumax3 simulations. The trick here is that you can execute shell commands by typing an exclamation mark followed by the command, as shown in the code cell below. If you run this code cell, the shell will print out the operating system of the virtual machine. Having the ability to run shell commands suffices to install and run mumax3 simulations, as demonstrated in the sections below."
      ]
    },
    {
      "cell_type": "code",
      "source": [
        "from google.colab import drive\n",
        "drive.mount('/content/drive')"
      ],
      "metadata": {
        "id": "uhgAUO6M9muv",
        "outputId": "f2966bb2-860d-4eaa-fddc-79eff2bdcc8e",
        "colab": {
          "base_uri": "https://localhost:8080/"
        }
      },
      "execution_count": null,
      "outputs": [
        {
          "output_type": "stream",
          "name": "stdout",
          "text": [
            "Mounted at /content/drive\n"
          ]
        }
      ]
    },
    {
      "cell_type": "code",
      "metadata": {
        "id": "W-P7fobTQgRT"
      },
      "source": [
        "! echo \"This machine runs\" $(uname)"
      ],
      "execution_count": null,
      "outputs": []
    },
    {
      "cell_type": "markdown",
      "metadata": {
        "id": "sx20qbQJGQNI"
      },
      "source": [
        "# Installing mumax3"
      ]
    },
    {
      "cell_type": "markdown",
      "metadata": {
        "id": "mxByDMk_XUvM"
      },
      "source": [
        "To install mumax3.10 on this virtual machine, you can run the cell below. This might take a few minutes. When the installation is done, you can collapse this section to get a clean workspace."
      ]
    },
    {
      "cell_type": "code",
      "metadata": {
        "id": "DcUZU5vv_TIf",
        "outputId": "06c22218-3e33-429e-9323-44e28050110a",
        "colab": {
          "base_uri": "https://localhost:8080/"
        }
      },
      "source": [
        "# Download the mumax3 binary\n",
        "!wget https://mumax.ugent.be/mumax3-binaries/mumax3.10_linux_cuda10.1.tar.gz\n",
        "!tar -xvf mumax3.10_linux_cuda10.1.tar.gz\n",
        "!rm mumax3.10_linux_cuda10.1.tar.gz\n",
        "!rm -rf mumax3.10 && mv mumax3.10_linux_cuda10.1 mumax3.10\n",
        "\n",
        "#update the PATH environment variable\n",
        "import os\n",
        "os.environ['PATH'] += \":/content/mumax3.10\"\n",
        "\n",
        "# Download an skyrmion script\n",
        "!wget https://raw.githubusercontent.com/JeroenMulkers/mumax3-tutorial/master/standardproblem4.mx3 -O standardproblem4.mx3"
      ],
      "execution_count": null,
      "outputs": [
        {
          "output_type": "stream",
          "name": "stdout",
          "text": [
            "--2025-06-17 13:02:11--  https://mumax.ugent.be/mumax3-binaries/mumax3.10_linux_cuda10.1.tar.gz\n",
            "Resolving mumax.ugent.be (mumax.ugent.be)... 157.193.40.77\n",
            "Connecting to mumax.ugent.be (mumax.ugent.be)|157.193.40.77|:443... connected.\n",
            "HTTP request sent, awaiting response... 200 OK\n",
            "Length: 150707207 (144M) [application/x-gzip]\n",
            "Saving to: ‘mumax3.10_linux_cuda10.1.tar.gz’\n",
            "\n",
            "mumax3.10_linux_cud 100%[===================>] 143.73M  20.4MB/s    in 8.3s    \n",
            "\n",
            "2025-06-17 13:02:20 (17.4 MB/s) - ‘mumax3.10_linux_cuda10.1.tar.gz’ saved [150707207/150707207]\n",
            "\n",
            "mumax3.10_linux_cuda10.1/\n",
            "mumax3.10_linux_cuda10.1/mumax3-server\n",
            "mumax3.10_linux_cuda10.1/lib/\n",
            "mumax3.10_linux_cuda10.1/lib/libcurand.so.10\n",
            "mumax3.10_linux_cuda10.1/lib/libcufft.so.10\n",
            "mumax3.10_linux_cuda10.1/mumax3\n",
            "mumax3.10_linux_cuda10.1/LICENSE\n",
            "mumax3.10_linux_cuda10.1/mumax3-convert\n",
            "--2025-06-17 13:02:23--  https://raw.githubusercontent.com/JeroenMulkers/mumax3-tutorial/master/standardproblem4.mx3\n",
            "Resolving raw.githubusercontent.com (raw.githubusercontent.com)... 185.199.108.133, 185.199.109.133, 185.199.110.133, ...\n",
            "Connecting to raw.githubusercontent.com (raw.githubusercontent.com)|185.199.108.133|:443... connected.\n",
            "HTTP request sent, awaiting response... 200 OK\n",
            "Length: 258 [text/plain]\n",
            "Saving to: ‘standardproblem4.mx3’\n",
            "\n",
            "standardproblem4.mx 100%[===================>]     258  --.-KB/s    in 0s      \n",
            "\n",
            "2025-06-17 13:02:23 (5.89 MB/s) - ‘standardproblem4.mx3’ saved [258/258]\n",
            "\n"
          ]
        }
      ]
    },
    {
      "cell_type": "markdown",
      "metadata": {
        "id": "sQhUZQFMBKYY"
      },
      "source": [
        "# Skyrmion Dynamic Generation"
      ]
    },
    {
      "cell_type": "code",
      "metadata": {
        "id": "9g4lmjd7BXGV",
        "outputId": "9f0e4820-e67a-4a9a-8bf3-efc9e521655f",
        "colab": {
          "base_uri": "https://localhost:8080/"
        }
      },
      "source": [
        "!mumax3 skyrmion.mx3"
      ],
      "execution_count": null,
      "outputs": [
        {
          "output_type": "stream",
          "name": "stdout",
          "text": [
            "//mumax 3.10 [linux_amd64 go1.14(gc) CUDA-10.1]\n",
            "//GPU info: Tesla T4(15095MB), CUDA Driver 12.4, cc=7.5, using cc=75 PTX\n",
            "//(c) Arne Vansteenkiste, Dynamat LAB, Ghent University, Belgium\n",
            "//This is free software without any warranty. See license.txt\n",
            "//********************************************************************//\n",
            "//  If you use mumax in any work or publication,                      //\n",
            "//  we kindly ask you to cite the references in references.bib        //\n",
            "//********************************************************************//\n",
            "//output directory: skyrmion.out/\n",
            "//starting GUI at http://127.0.0.1:35367\n",
            "SetGridSize(256, 64, 1)\n",
            "SetCellSize(1e-9, 1e-9, 1e-9)\n",
            "SetPBC(4, 0, 0)\n",
            "//resizing...\n",
            "// Initializing geometry 1 %\n",
            "// Initializing geometry 100 %\n",
            "Msat = 580e3\n",
            "Aex = 15e-12\n",
            "Dind = 3.0e-3\n",
            "Ku1 = 0.8e6\n",
            "AnisU = vector(0, 0, 1)\n",
            "alpha = 0.1\n",
            "m = neelskyrmion(-1, 1).transl(-40e-9, 0, 0)\n",
            "minimize()\n",
            "//Did not use cached kernel: open /tmp/mumax3kernel_[256 64 1]_[4 0 0]_[1e-09 1e-09 1e-09]_6_0 0.ovf: no such file or directory\n",
            "//Cached kernel: /tmp/mumax3kernel_[256 64 1]_[4 0 0]_[1e-09 1e-09 1e-09]_6_\n",
            "SOTxi := 0.1\n",
            "AlphaH := 0.15\n",
            "Pol = AlphaH\n",
            "Lambda = 1\n",
            "Epsilonprime = AlphaH / 2 * SOTxi\n",
            "Fixedlayer = vector(0, -1, 0)\n",
            "J = vector(0, 0, abs(-2e11))\n",
            "autosave(m, 1e-10)\n",
            "tableautosave(1e-11)\n",
            "tableadd(ext_bubblepos)\n",
            "run(2.5e-9)\n",
            "//********************************************************************//\n",
            "//Please cite the following references, relevant for your simulation. //\n",
            "//See bibtex file in output folder for justification.                 //\n",
            "//********************************************************************//\n",
            "//   * Vansteenkiste et al., AIP Adv. 4, 107133 (2014).\n",
            "//   * Exl et al., J. Appl. Phys. 115, 17D118 (2014).\n",
            "//   * Mulkers et al., Phys. Rev. B 95, 144401 (2017).\n"
          ]
        }
      ]
    },
    {
      "cell_type": "code",
      "metadata": {
        "id": "pmuXIuVRbHaY",
        "outputId": "cb796faf-5621-4535-dda6-fe9e3fc98d21",
        "colab": {
          "base_uri": "https://localhost:8080/"
        }
      },
      "source": [
        "!mumax3-convert -png skyrmion.out/*.ovf"
      ],
      "execution_count": null,
      "outputs": [
        {
          "output_type": "stream",
          "name": "stdout",
          "text": [
            "skyrmion.out/m000000.ovf\n",
            "skyrmion.out/m000001.ovf\n",
            "skyrmion.out/m000002.ovf\n",
            "skyrmion.out/m000003.ovf\n",
            "skyrmion.out/m000004.ovf\n",
            "skyrmion.out/m000005.ovf\n",
            "skyrmion.out/m000006.ovf\n",
            "skyrmion.out/m000007.ovf\n",
            "skyrmion.out/m000008.ovf\n",
            "skyrmion.out/m000009.ovf\n",
            "skyrmion.out/m000010.ovf\n",
            "skyrmion.out/m000011.ovf\n",
            "skyrmion.out/m000012.ovf\n",
            "skyrmion.out/m000013.ovf\n",
            "skyrmion.out/m000014.ovf\n",
            "skyrmion.out/m000015.ovf\n",
            "skyrmion.out/m000016.ovf\n",
            "skyrmion.out/m000017.ovf\n",
            "skyrmion.out/m000018.ovf\n",
            "skyrmion.out/m000019.ovf\n",
            "skyrmion.out/m000020.ovf\n",
            "skyrmion.out/m000021.ovf\n",
            "skyrmion.out/m000022.ovf\n",
            "skyrmion.out/m000023.ovf\n",
            "skyrmion.out/m000024.ovf\n",
            "skyrmion.out/m000025.ovf\n",
            "[ ok ] skyrmion.out/m000000.ovf\t-> skyrmion.out/m000000.png\n",
            "[ ok ] skyrmion.out/m000002.ovf\t-> skyrmion.out/m000002.png\n",
            "[ ok ] skyrmion.out/m000001.ovf\t-> skyrmion.out/m000001.png\n",
            "[ ok ] skyrmion.out/m000003.ovf\t-> skyrmion.out/m000003.png\n",
            "[ ok ] skyrmion.out/m000005.ovf\t-> skyrmion.out/m000005.png\n",
            "[ ok ] skyrmion.out/m000006.ovf\t-> skyrmion.out/m000006.png\n",
            "[ ok ] skyrmion.out/m000004.ovf\t-> skyrmion.out/m000004.png\n",
            "[ ok ] skyrmion.out/m000008.ovf\t-> skyrmion.out/m000008.png\n",
            "[ ok ] skyrmion.out/m000007.ovf\t-> skyrmion.out/m000007.png\n",
            "[ ok ] skyrmion.out/m000010.ovf\t-> skyrmion.out/m000010.png\n",
            "[ ok ] skyrmion.out/m000009.ovf\t-> skyrmion.out/m000009.png\n",
            "[ ok ] skyrmion.out/m000011.ovf\t-> skyrmion.out/m000011.png\n",
            "[ ok ] skyrmion.out/m000012.ovf\t-> skyrmion.out/m000012.png\n",
            "[ ok ] skyrmion.out/m000014.ovf\t-> skyrmion.out/m000014.png\n",
            "[ ok ] skyrmion.out/m000015.ovf\t-> skyrmion.out/m000015.png\n",
            "[ ok ] skyrmion.out/m000017.ovf\t-> skyrmion.out/m000017.png\n",
            "[ ok ] skyrmion.out/m000016.ovf\t-> skyrmion.out/m000016.png\n",
            "[ ok ] skyrmion.out/m000013.ovf\t-> skyrmion.out/m000013.png\n",
            "[ ok ] skyrmion.out/m000019.ovf\t-> skyrmion.out/m000019.png\n",
            "[ ok ] skyrmion.out/m000020.ovf\t-> skyrmion.out/m000020.png\n",
            "[ ok ] skyrmion.out/m000021.ovf\t-> skyrmion.out/m000021.png\n",
            "[ ok ] skyrmion.out/m000022.ovf\t-> skyrmion.out/m000022.png\n",
            "[ ok ] skyrmion.out/m000018.ovf\t-> skyrmion.out/m000018.png\n",
            "[ ok ] skyrmion.out/m000024.ovf\t-> skyrmion.out/m000024.png\n",
            "[ ok ] skyrmion.out/m000023.ovf\t-> skyrmion.out/m000023.png\n",
            "[ ok ] skyrmion.out/m000025.ovf\t-> skyrmion.out/m000025.png\n",
            "26 files converted,  0 skipped,  0 failed\n"
          ]
        }
      ]
    }
  ]
}